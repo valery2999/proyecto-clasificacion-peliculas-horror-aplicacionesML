{
  "nbformat": 4,
  "nbformat_minor": 0,
  "metadata": {
    "colab": {
      "provenance": []
    },
    "kernelspec": {
      "name": "python3",
      "display_name": "Python 3"
    },
    "language_info": {
      "name": "python"
    }
  },
  "cells": [
    {
      "cell_type": "markdown",
      "source": [
        "<table>\n",
        "    <tr>\n",
        "        <td><img src=\"https://s3.amazonaws.com/media-p.slid.es/uploads/1485763/images/9060062/Header.png\" width=\"500\"/></td>\n",
        "        <td>&nbsp;</td>\n",
        "        <td>\n",
        "            <h1 style=\"font-size:100%;color:blue;text-align:center\">    <FONT COLOR=\"blue\"> Entrega Final </p> Aplicaciones de Aprendizaje de Máquina </p> Notebook  </FONT>         </h1></td>         \n",
        "        <td>\n",
        "            <tp><p style=\"font-size:99%;text-align:center\">Aplicaciones de Aprendizaje de Máquina </p></tp>\n",
        "            <tp><p style=\"font-size:115%;text-align:center\">Maestría MACC 2025-1</p></tp>\n",
        "            <tp><p style=\"font-size:115%;text-align:center\">Prof. Andrés López</p></tp>\n",
        "            <tp><p style=\"font-size:115%;text-align:center\">Est. Daniel Sierra, Mateo Novoa</p></tp>\n",
        "            <tp><p style=\"font-size:115%;text-align:center\">Sofía Carrera, Valery Jiménez</p></tp>\n",
        "        </td>\n",
        "    </tr>\n",
        "</table>\n"
      ],
      "metadata": {
        "id": "bpZnrCGI8UQw"
      }
    },
    {
      "cell_type": "markdown",
      "source": [
        "### Importar datos"
      ],
      "metadata": {
        "id": "-Fj-s7F186Tz"
      }
    },
    {
      "cell_type": "code",
      "source": [
        "!pip install tomotopy"
      ],
      "metadata": {
        "colab": {
          "base_uri": "https://localhost:8080/"
        },
        "id": "jHKqkU-GhpDu",
        "outputId": "b02db20b-bf0f-4650-efd6-f8cf9363acf4"
      },
      "execution_count": 1,
      "outputs": [
        {
          "output_type": "stream",
          "name": "stdout",
          "text": [
            "Requirement already satisfied: tomotopy in /usr/local/lib/python3.11/dist-packages (0.13.0)\n",
            "Requirement already satisfied: numpy<2,>=1.11.0 in /usr/local/lib/python3.11/dist-packages (from tomotopy) (1.26.4)\n"
          ]
        }
      ]
    },
    {
      "cell_type": "code",
      "source": [
        "import pandas as pd\n",
        "import numpy as np\n",
        "import matplotlib.pyplot as plt\n",
        "from pathlib import Path\n",
        "from sklearn.feature_extraction.text import CountVectorizer\n",
        "from sklearn.linear_model import LogisticRegression\n",
        "from sklearn.model_selection import StratifiedKFold, cross_val_score\n",
        "from sklearn.metrics import roc_auc_score, roc_curve, auc\n",
        "import tomotopy as tp"
      ],
      "metadata": {
        "id": "nxrbCFWNkvdK"
      },
      "execution_count": 2,
      "outputs": []
    },
    {
      "cell_type": "code",
      "source": [
        "import kagglehub\n",
        "\n",
        "\n",
        "# Download latest version\n",
        "path = kagglehub.dataset_download(\"rounakbanik/the-movies-dataset\")\n",
        "\n",
        "print(\"Path to dataset files:\", path)\n"
      ],
      "metadata": {
        "colab": {
          "base_uri": "https://localhost:8080/"
        },
        "id": "WVN4QVKjvFJc",
        "outputId": "b1330961-f7d9-4099-cecf-704097c64b84"
      },
      "execution_count": 3,
      "outputs": [
        {
          "output_type": "stream",
          "name": "stdout",
          "text": [
            "Path to dataset files: /kaggle/input/the-movies-dataset\n"
          ]
        }
      ]
    },
    {
      "cell_type": "code",
      "source": [
        "file_name = Path(path, 'movies_metadata.csv')\n",
        "movies = pd.read_csv(file_name, low_memory=False)"
      ],
      "metadata": {
        "id": "BWhTdDC-vTV6"
      },
      "execution_count": 4,
      "outputs": []
    },
    {
      "cell_type": "markdown",
      "source": [
        "###Prepocesamiento"
      ],
      "metadata": {
        "id": "sz3V72xbvNv-"
      }
    },
    {
      "cell_type": "markdown",
      "source": [
        "####1)Filtrado de sinopsis vacias"
      ],
      "metadata": {
        "id": "gxofral9vYDj"
      }
    },
    {
      "cell_type": "code",
      "source": [
        "#Eliminar pel´ıculas sin descripci´on en la variable\n",
        "movies = movies.dropna(subset=['overview'])"
      ],
      "metadata": {
        "id": "dH8L71MkvdvK"
      },
      "execution_count": 5,
      "outputs": []
    },
    {
      "cell_type": "code",
      "source": [
        "movies.info()"
      ],
      "metadata": {
        "colab": {
          "base_uri": "https://localhost:8080/"
        },
        "id": "Xu4kbImV1VN8",
        "outputId": "9512f9b5-a399-4ecd-e82a-57010dace168"
      },
      "execution_count": 6,
      "outputs": [
        {
          "output_type": "stream",
          "name": "stdout",
          "text": [
            "<class 'pandas.core.frame.DataFrame'>\n",
            "Index: 44512 entries, 0 to 45465\n",
            "Data columns (total 24 columns):\n",
            " #   Column                 Non-Null Count  Dtype  \n",
            "---  ------                 --------------  -----  \n",
            " 0   adult                  44512 non-null  object \n",
            " 1   belongs_to_collection  4435 non-null   object \n",
            " 2   budget                 44512 non-null  object \n",
            " 3   genres                 44512 non-null  object \n",
            " 4   homepage               7765 non-null   object \n",
            " 5   id                     44512 non-null  object \n",
            " 6   imdb_id                44497 non-null  object \n",
            " 7   original_language      44502 non-null  object \n",
            " 8   original_title         44512 non-null  object \n",
            " 9   overview               44512 non-null  object \n",
            " 10  popularity             44507 non-null  object \n",
            " 11  poster_path            44166 non-null  object \n",
            " 12  production_companies   44509 non-null  object \n",
            " 13  production_countries   44509 non-null  object \n",
            " 14  release_date           44438 non-null  object \n",
            " 15  revenue                44506 non-null  float64\n",
            " 16  runtime                44506 non-null  float64\n",
            " 17  spoken_languages       44506 non-null  object \n",
            " 18  status                 44441 non-null  object \n",
            " 19  tagline                20404 non-null  object \n",
            " 20  title                  44506 non-null  object \n",
            " 21  video                  44506 non-null  object \n",
            " 22  vote_average           44506 non-null  float64\n",
            " 23  vote_count             44506 non-null  float64\n",
            "dtypes: float64(4), object(20)\n",
            "memory usage: 8.5+ MB\n"
          ]
        }
      ]
    },
    {
      "cell_type": "markdown",
      "source": [
        "####2)Filtrado por cantidad de géneros"
      ],
      "metadata": {
        "id": "duKpVBD42LtI"
      }
    },
    {
      "cell_type": "code",
      "source": [
        "def numero_de_generos(texto):\n",
        "  generos = eval(texto)\n",
        "  return len(generos)"
      ],
      "metadata": {
        "id": "XpvthDtEzM2Z"
      },
      "execution_count": 7,
      "outputs": []
    },
    {
      "cell_type": "code",
      "source": [
        "#Conservar ´unicamente pel´ıculas que pertenezcan a un solo g´enero, generando una nueva columna genre.\n",
        "single_genre_movies = movies[movies['genres'].apply(lambda x: len(eval(x)) == 1)]\n",
        "single_genre_movies.shape"
      ],
      "metadata": {
        "colab": {
          "base_uri": "https://localhost:8080/"
        },
        "id": "kDoXzo8l2UhS",
        "outputId": "cbac33e3-9cb1-4bf4-b0d4-3672e570d469"
      },
      "execution_count": 8,
      "outputs": [
        {
          "output_type": "execute_result",
          "data": {
            "text/plain": [
              "(14138, 24)"
            ]
          },
          "metadata": {},
          "execution_count": 8
        }
      ]
    },
    {
      "cell_type": "markdown",
      "source": [
        "####3)Filtrado por géneros válidos"
      ],
      "metadata": {
        "id": "d-oUte_85EpU"
      }
    },
    {
      "cell_type": "code",
      "source": [
        "generos=['Drama', 'Comedy', 'Documentary',\n",
        "         'Horror', 'Thriller', 'Western',\n",
        "         'Action', 'Animation', 'Science Fiction',\n",
        "         'Crime', 'Music','Adventure']\n",
        "\n",
        "#filtrar por los generos\n",
        "single_genre_movies = single_genre_movies[single_genre_movies['genres'].apply(lambda x: eval(x)[0]['name'] in generos)]"
      ],
      "metadata": {
        "id": "6hx2_whR5LMT"
      },
      "execution_count": 9,
      "outputs": []
    },
    {
      "cell_type": "code",
      "source": [
        "single_genre_movies['genres'].unique()"
      ],
      "metadata": {
        "colab": {
          "base_uri": "https://localhost:8080/"
        },
        "id": "V05HKiqEFpnT",
        "outputId": "33642edd-3cf1-4787-e0ff-501272602c1e"
      },
      "execution_count": 10,
      "outputs": [
        {
          "output_type": "execute_result",
          "data": {
            "text/plain": [
              "array([\"[{'id': 35, 'name': 'Comedy'}]\", \"[{'id': 18, 'name': 'Drama'}]\",\n",
              "       \"[{'id': 99, 'name': 'Documentary'}]\",\n",
              "       \"[{'id': 80, 'name': 'Crime'}]\",\n",
              "       \"[{'id': 12, 'name': 'Adventure'}]\",\n",
              "       \"[{'id': 878, 'name': 'Science Fiction'}]\",\n",
              "       \"[{'id': 53, 'name': 'Thriller'}]\",\n",
              "       \"[{'id': 27, 'name': 'Horror'}]\",\n",
              "       \"[{'id': 16, 'name': 'Animation'}]\",\n",
              "       \"[{'id': 28, 'name': 'Action'}]\",\n",
              "       \"[{'id': 37, 'name': 'Western'}]\",\n",
              "       \"[{'id': 10402, 'name': 'Music'}]\"], dtype=object)"
            ]
          },
          "metadata": {},
          "execution_count": 10
        }
      ]
    },
    {
      "cell_type": "markdown",
      "source": [
        "####Codficación del género"
      ],
      "metadata": {
        "id": "Ak7VPjMpAfzA"
      }
    },
    {
      "cell_type": "code",
      "source": [
        "#agregar una nueva columna genre_code donde se le asigna un número único por cada género\n",
        "single_genre_movies['genre_code'] = single_genre_movies['genres'].astype('category').cat.codes"
      ],
      "metadata": {
        "id": "cJA5cDu3AfUI",
        "colab": {
          "base_uri": "https://localhost:8080/"
        },
        "outputId": "856b8bd3-213c-4444-c6fe-87f7d5c92a87"
      },
      "execution_count": 11,
      "outputs": [
        {
          "output_type": "stream",
          "name": "stderr",
          "text": [
            "<ipython-input-11-4396985e0430>:2: SettingWithCopyWarning: \n",
            "A value is trying to be set on a copy of a slice from a DataFrame.\n",
            "Try using .loc[row_indexer,col_indexer] = value instead\n",
            "\n",
            "See the caveats in the documentation: https://pandas.pydata.org/pandas-docs/stable/user_guide/indexing.html#returning-a-view-versus-a-copy\n",
            "  single_genre_movies['genre_code'] = single_genre_movies['genres'].astype('category').cat.codes\n"
          ]
        }
      ]
    },
    {
      "cell_type": "code",
      "source": [
        "single_genre_movies = single_genre_movies.drop_duplicates(subset=['title', 'overview']).reset_index(drop=True)"
      ],
      "metadata": {
        "id": "OOcxat7s2mIu"
      },
      "execution_count": 12,
      "outputs": []
    },
    {
      "cell_type": "markdown",
      "source": [
        "####Filtrado por Fragmentación de sinopsis"
      ],
      "metadata": {
        "id": "iKyLqydBKLfl"
      }
    },
    {
      "cell_type": "code",
      "source": [
        "from langchain.text_splitter import SentenceTransformersTokenTextSplitter"
      ],
      "metadata": {
        "id": "i9GBKYRyKQkY"
      },
      "execution_count": 13,
      "outputs": []
    },
    {
      "cell_type": "code",
      "source": [
        "# Configurar el splitter\n",
        "\n",
        "splitter = SentenceTransformersTokenTextSplitter(chunk_overlap=0, model_name=\"all-mpnet-base-v2\",tokens_per_chunk=315)"
      ],
      "metadata": {
        "id": "MPj-dxp8l8rR",
        "colab": {
          "base_uri": "https://localhost:8080/"
        },
        "outputId": "91c10662-7edc-4ff8-b59b-06ccc43c2885"
      },
      "execution_count": 14,
      "outputs": [
        {
          "output_type": "stream",
          "name": "stderr",
          "text": [
            "/usr/local/lib/python3.11/dist-packages/huggingface_hub/utils/_auth.py:94: UserWarning: \n",
            "The secret `HF_TOKEN` does not exist in your Colab secrets.\n",
            "To authenticate with the Hugging Face Hub, create a token in your settings tab (https://huggingface.co/settings/tokens), set it as secret in your Google Colab and restart your session.\n",
            "You will be able to reuse this secret in all of your notebooks.\n",
            "Please note that authentication is recommended but still optional to access public models or datasets.\n",
            "  warnings.warn(\n"
          ]
        }
      ]
    },
    {
      "cell_type": "code",
      "source": [
        "# Función para verificar si la sinopsis se divide en más de un fragmento\n",
        "def es_un_solo_fragmento(texto):\n",
        "    trozos = splitter.split_text(texto)\n",
        "    return len(trozos) == 1"
      ],
      "metadata": {
        "id": "0dsItZ8mmI0Y"
      },
      "execution_count": 15,
      "outputs": []
    },
    {
      "cell_type": "code",
      "source": [
        "# Filtrar el DataFrame\n",
        "df_filtrado = single_genre_movies[single_genre_movies['overview'].apply(es_un_solo_fragmento)].reset_index(drop=True)"
      ],
      "metadata": {
        "id": "SDR9nqkpmKED"
      },
      "execution_count": 16,
      "outputs": []
    },
    {
      "cell_type": "markdown",
      "source": [
        "## Clasificación del dataset\n",
        "Elegimos el género Terror"
      ],
      "metadata": {
        "id": "MWHJfuLLCk3s"
      }
    },
    {
      "cell_type": "code",
      "source": [
        "#Identificar la categoría del género que elegimos\n",
        "target_genre_name = \"Horror\"\n",
        "\n",
        "# Mostrar la categoría de cada género\n",
        "codigos_generos = dict(enumerate(df_filtrado['genres'].astype('category').cat.categories))\n",
        "#Sacamos la categoría\n",
        "\n",
        "for k,v in codigos_generos.items():\n",
        "  if target_genre_name in v:\n",
        "    target_genre = k\n",
        "target_genre"
      ],
      "metadata": {
        "colab": {
          "base_uri": "https://localhost:8080/"
        },
        "id": "Haqwh7EMC4aq",
        "outputId": "cc695d24-8ad9-4e93-cc0b-77b4d5cbab96"
      },
      "execution_count": 17,
      "outputs": [
        {
          "output_type": "execute_result",
          "data": {
            "text/plain": [
              "4"
            ]
          },
          "metadata": {},
          "execution_count": 17
        }
      ]
    },
    {
      "cell_type": "code",
      "source": [
        "#Variable de reseñas\n",
        "X_text = df_filtrado['overview'].tolist()\n",
        "#Convertimos en binaria la variable de género\n",
        "y = df_filtrado['genre_code'].apply(lambda g: 1 if g == target_genre else 0).tolist()\n"
      ],
      "metadata": {
        "id": "hg_jSVtrDhWM"
      },
      "execution_count": 18,
      "outputs": []
    },
    {
      "cell_type": "code",
      "source": [
        "vectorizer = CountVectorizer(max_df=0.90,  # Elimina palabras demasiado frecuentes (en mas del 90% de los documentos) o raras (default = 1.0)\n",
        "                             min_df=5,     # Elimina palabras que aparecen en menos de 5 documentos (si fuera 0.01 eliminaría las palabras que aparecen en menos de 1% de los documentos)\n",
        "                             max_features=1000, # Limita el vocabulario a las 1000 palabras más comunes.\n",
        "                             stop_words='english')\n",
        "\n",
        "vectorizer.fit(X_text)\n",
        "vocabulario = set(vectorizer.get_feature_names_out())\n",
        "\n",
        "\n",
        "\n",
        "# Debemos usar un tokenizer compatible con sLDA usando ese vocabulario\n",
        "tokenized_docs = [\n",
        "    [word for word in doc.lower().split() if word in vocabulario]\n",
        "    for doc in X_text\n",
        "]\n",
        "#Asignar las etiquetas al documento\n",
        "docs_labels = [(tokens, label) for tokens, label in zip(tokenized_docs, y) if tokens]"
      ],
      "metadata": {
        "id": "sSH_82rJEML5"
      },
      "execution_count": 19,
      "outputs": []
    },
    {
      "cell_type": "code",
      "source": [
        "# Inicializar resultados\n",
        "resultados = {}\n",
        "\n",
        "# Validación cruzada estratificada\n",
        "kf = StratifiedKFold(n_splits=5, shuffle=True, random_state=42)\n",
        "\n",
        "for p in range(10, 21):\n",
        "    print(f\"\\nProbando con {p} temas...\")\n",
        "\n",
        "    # Crear nuevo modelo sLDA\n",
        "    model = tp.SLDAModel(k=p, alpha=0.1, eta=0.01, seed=42, vars='b')\n",
        "\n",
        "    # Añadir documentos al modelo\n",
        "    y_train = []\n",
        "    for tokens, label in docs_labels:  # X_tokens debe ser lista de listas de tokens\n",
        "        if tokens:\n",
        "            model.add_doc(words=tokens, y=[float(label)])\n",
        "            y_train.append(label)\n",
        "\n",
        "    # Entrenar el modelo\n",
        "    model.train(100)\n",
        "\n",
        "    # Obtener las distribuciones de temas\n",
        "    X_theta = [doc.get_topic_dist() for doc in model.docs]\n",
        "    X_theta = np.array(X_theta)\n",
        "    y_train = np.array(y_train)\n",
        "\n",
        "    # Entrenar regresión logística\n",
        "    clf = LogisticRegression(max_iter=1000, class_weight='balanced')\n",
        "    scores = cross_val_score(clf, X_theta, y_train, cv=kf, scoring='roc_auc')\n",
        "\n",
        "    resultados[p] = scores\n",
        "    print(f\"   AUC promedio: {np.mean(scores):.4f} ± {np.std(scores):.4f}\")\n",
        "\n",
        "# Encontrar mejor p\n",
        "mejor_p = max(resultados, key=lambda p: np.mean(resultados[p]))\n",
        "print(f\"\\nMejor número de temas: {mejor_p} (AUC promedio = {np.mean(resultados[mejor_p]):.4f})\")\n"
      ],
      "metadata": {
        "colab": {
          "base_uri": "https://localhost:8080/"
        },
        "id": "KNUi67ZLiGJs",
        "outputId": "3127b099-ba29-4396-92e0-3fa5b32c8bc6"
      },
      "execution_count": 20,
      "outputs": [
        {
          "output_type": "stream",
          "name": "stdout",
          "text": [
            "\n",
            "Probando con 10 temas...\n"
          ]
        },
        {
          "output_type": "stream",
          "name": "stderr",
          "text": [
            "<ipython-input-20-981df1633365>:21: RuntimeWarning: The training result may differ even with fixed seed if `workers` != 1.\n",
            "  model.train(100)\n"
          ]
        },
        {
          "output_type": "stream",
          "name": "stdout",
          "text": [
            "   AUC promedio: 0.8743 ± 0.0102\n",
            "\n",
            "Probando con 11 temas...\n"
          ]
        },
        {
          "output_type": "stream",
          "name": "stderr",
          "text": [
            "<ipython-input-20-981df1633365>:21: RuntimeWarning: The training result may differ even with fixed seed if `workers` != 1.\n",
            "  model.train(100)\n"
          ]
        },
        {
          "output_type": "stream",
          "name": "stdout",
          "text": [
            "   AUC promedio: 0.8708 ± 0.0101\n",
            "\n",
            "Probando con 12 temas...\n"
          ]
        },
        {
          "output_type": "stream",
          "name": "stderr",
          "text": [
            "<ipython-input-20-981df1633365>:21: RuntimeWarning: The training result may differ even with fixed seed if `workers` != 1.\n",
            "  model.train(100)\n"
          ]
        },
        {
          "output_type": "stream",
          "name": "stdout",
          "text": [
            "   AUC promedio: 0.8564 ± 0.0125\n",
            "\n",
            "Probando con 13 temas...\n"
          ]
        },
        {
          "output_type": "stream",
          "name": "stderr",
          "text": [
            "<ipython-input-20-981df1633365>:21: RuntimeWarning: The training result may differ even with fixed seed if `workers` != 1.\n",
            "  model.train(100)\n"
          ]
        },
        {
          "output_type": "stream",
          "name": "stdout",
          "text": [
            "   AUC promedio: 0.8856 ± 0.0053\n",
            "\n",
            "Probando con 14 temas...\n"
          ]
        },
        {
          "output_type": "stream",
          "name": "stderr",
          "text": [
            "<ipython-input-20-981df1633365>:21: RuntimeWarning: The training result may differ even with fixed seed if `workers` != 1.\n",
            "  model.train(100)\n"
          ]
        },
        {
          "output_type": "stream",
          "name": "stdout",
          "text": [
            "   AUC promedio: 0.8187 ± 0.0178\n",
            "\n",
            "Probando con 15 temas...\n"
          ]
        },
        {
          "output_type": "stream",
          "name": "stderr",
          "text": [
            "<ipython-input-20-981df1633365>:21: RuntimeWarning: The training result may differ even with fixed seed if `workers` != 1.\n",
            "  model.train(100)\n"
          ]
        },
        {
          "output_type": "stream",
          "name": "stdout",
          "text": [
            "   AUC promedio: 0.8594 ± 0.0139\n",
            "\n",
            "Probando con 16 temas...\n"
          ]
        },
        {
          "output_type": "stream",
          "name": "stderr",
          "text": [
            "<ipython-input-20-981df1633365>:21: RuntimeWarning: The training result may differ even with fixed seed if `workers` != 1.\n",
            "  model.train(100)\n"
          ]
        },
        {
          "output_type": "stream",
          "name": "stdout",
          "text": [
            "   AUC promedio: 0.8652 ± 0.0146\n",
            "\n",
            "Probando con 17 temas...\n"
          ]
        },
        {
          "output_type": "stream",
          "name": "stderr",
          "text": [
            "<ipython-input-20-981df1633365>:21: RuntimeWarning: The training result may differ even with fixed seed if `workers` != 1.\n",
            "  model.train(100)\n"
          ]
        },
        {
          "output_type": "stream",
          "name": "stdout",
          "text": [
            "   AUC promedio: 0.8810 ± 0.0183\n",
            "\n",
            "Probando con 18 temas...\n"
          ]
        },
        {
          "output_type": "stream",
          "name": "stderr",
          "text": [
            "<ipython-input-20-981df1633365>:21: RuntimeWarning: The training result may differ even with fixed seed if `workers` != 1.\n",
            "  model.train(100)\n"
          ]
        },
        {
          "output_type": "stream",
          "name": "stdout",
          "text": [
            "   AUC promedio: 0.8479 ± 0.0205\n",
            "\n",
            "Probando con 19 temas...\n"
          ]
        },
        {
          "output_type": "stream",
          "name": "stderr",
          "text": [
            "<ipython-input-20-981df1633365>:21: RuntimeWarning: The training result may differ even with fixed seed if `workers` != 1.\n",
            "  model.train(100)\n"
          ]
        },
        {
          "output_type": "stream",
          "name": "stdout",
          "text": [
            "   AUC promedio: 0.8973 ± 0.0065\n",
            "\n",
            "Probando con 20 temas...\n"
          ]
        },
        {
          "output_type": "stream",
          "name": "stderr",
          "text": [
            "<ipython-input-20-981df1633365>:21: RuntimeWarning: The training result may differ even with fixed seed if `workers` != 1.\n",
            "  model.train(100)\n"
          ]
        },
        {
          "output_type": "stream",
          "name": "stdout",
          "text": [
            "   AUC promedio: 0.8642 ± 0.0132\n",
            "\n",
            "Mejor número de temas: 19 (AUC promedio = 0.8973)\n"
          ]
        }
      ]
    },
    {
      "cell_type": "code",
      "source": [
        "# Entrenamiento final con sLDA\n",
        "modelo_final = tp.SLDAModel(k=mejor_p, alpha=0.1, eta=0.01, seed=42, vars='b')\n",
        "\n",
        "# Añadir todos los documentos al modelo\n",
        "for tokens, label in docs_labels:\n",
        "    modelo_final.add_doc(words=tokens, y=[float(label)])\n",
        "\n",
        "# Entrenar el modelo completo\n",
        "modelo_final.train(100)\n",
        "\n",
        "# Obtener distribuciones de temas (theta) para cada documento\n",
        "X_topics_final = [doc.get_topic_dist() for doc in modelo_final.docs]\n",
        "y_final = [label for _, label in docs_labels]\n",
        "\n",
        "# Entrenar regresión logística sobre todo el dataset\n",
        "clf_final = LogisticRegression(class_weight='balanced', max_iter=1000, random_state=42)\n",
        "clf_final.fit(X_topics_final, y_final)\n"
      ],
      "metadata": {
        "colab": {
          "base_uri": "https://localhost:8080/",
          "height": 117
        },
        "id": "tw1pH0VpKlUe",
        "outputId": "5df3c084-5aa5-4fc8-d737-676eee8026d9"
      },
      "execution_count": 21,
      "outputs": [
        {
          "output_type": "stream",
          "name": "stderr",
          "text": [
            "<ipython-input-21-e5b88a5b5b79>:9: RuntimeWarning: The training result may differ even with fixed seed if `workers` != 1.\n",
            "  modelo_final.train(100)\n"
          ]
        },
        {
          "output_type": "execute_result",
          "data": {
            "text/plain": [
              "LogisticRegression(class_weight='balanced', max_iter=1000, random_state=42)"
            ],
            "text/html": [
              "<style>#sk-container-id-1 {\n",
              "  /* Definition of color scheme common for light and dark mode */\n",
              "  --sklearn-color-text: #000;\n",
              "  --sklearn-color-text-muted: #666;\n",
              "  --sklearn-color-line: gray;\n",
              "  /* Definition of color scheme for unfitted estimators */\n",
              "  --sklearn-color-unfitted-level-0: #fff5e6;\n",
              "  --sklearn-color-unfitted-level-1: #f6e4d2;\n",
              "  --sklearn-color-unfitted-level-2: #ffe0b3;\n",
              "  --sklearn-color-unfitted-level-3: chocolate;\n",
              "  /* Definition of color scheme for fitted estimators */\n",
              "  --sklearn-color-fitted-level-0: #f0f8ff;\n",
              "  --sklearn-color-fitted-level-1: #d4ebff;\n",
              "  --sklearn-color-fitted-level-2: #b3dbfd;\n",
              "  --sklearn-color-fitted-level-3: cornflowerblue;\n",
              "\n",
              "  /* Specific color for light theme */\n",
              "  --sklearn-color-text-on-default-background: var(--sg-text-color, var(--theme-code-foreground, var(--jp-content-font-color1, black)));\n",
              "  --sklearn-color-background: var(--sg-background-color, var(--theme-background, var(--jp-layout-color0, white)));\n",
              "  --sklearn-color-border-box: var(--sg-text-color, var(--theme-code-foreground, var(--jp-content-font-color1, black)));\n",
              "  --sklearn-color-icon: #696969;\n",
              "\n",
              "  @media (prefers-color-scheme: dark) {\n",
              "    /* Redefinition of color scheme for dark theme */\n",
              "    --sklearn-color-text-on-default-background: var(--sg-text-color, var(--theme-code-foreground, var(--jp-content-font-color1, white)));\n",
              "    --sklearn-color-background: var(--sg-background-color, var(--theme-background, var(--jp-layout-color0, #111)));\n",
              "    --sklearn-color-border-box: var(--sg-text-color, var(--theme-code-foreground, var(--jp-content-font-color1, white)));\n",
              "    --sklearn-color-icon: #878787;\n",
              "  }\n",
              "}\n",
              "\n",
              "#sk-container-id-1 {\n",
              "  color: var(--sklearn-color-text);\n",
              "}\n",
              "\n",
              "#sk-container-id-1 pre {\n",
              "  padding: 0;\n",
              "}\n",
              "\n",
              "#sk-container-id-1 input.sk-hidden--visually {\n",
              "  border: 0;\n",
              "  clip: rect(1px 1px 1px 1px);\n",
              "  clip: rect(1px, 1px, 1px, 1px);\n",
              "  height: 1px;\n",
              "  margin: -1px;\n",
              "  overflow: hidden;\n",
              "  padding: 0;\n",
              "  position: absolute;\n",
              "  width: 1px;\n",
              "}\n",
              "\n",
              "#sk-container-id-1 div.sk-dashed-wrapped {\n",
              "  border: 1px dashed var(--sklearn-color-line);\n",
              "  margin: 0 0.4em 0.5em 0.4em;\n",
              "  box-sizing: border-box;\n",
              "  padding-bottom: 0.4em;\n",
              "  background-color: var(--sklearn-color-background);\n",
              "}\n",
              "\n",
              "#sk-container-id-1 div.sk-container {\n",
              "  /* jupyter's `normalize.less` sets `[hidden] { display: none; }`\n",
              "     but bootstrap.min.css set `[hidden] { display: none !important; }`\n",
              "     so we also need the `!important` here to be able to override the\n",
              "     default hidden behavior on the sphinx rendered scikit-learn.org.\n",
              "     See: https://github.com/scikit-learn/scikit-learn/issues/21755 */\n",
              "  display: inline-block !important;\n",
              "  position: relative;\n",
              "}\n",
              "\n",
              "#sk-container-id-1 div.sk-text-repr-fallback {\n",
              "  display: none;\n",
              "}\n",
              "\n",
              "div.sk-parallel-item,\n",
              "div.sk-serial,\n",
              "div.sk-item {\n",
              "  /* draw centered vertical line to link estimators */\n",
              "  background-image: linear-gradient(var(--sklearn-color-text-on-default-background), var(--sklearn-color-text-on-default-background));\n",
              "  background-size: 2px 100%;\n",
              "  background-repeat: no-repeat;\n",
              "  background-position: center center;\n",
              "}\n",
              "\n",
              "/* Parallel-specific style estimator block */\n",
              "\n",
              "#sk-container-id-1 div.sk-parallel-item::after {\n",
              "  content: \"\";\n",
              "  width: 100%;\n",
              "  border-bottom: 2px solid var(--sklearn-color-text-on-default-background);\n",
              "  flex-grow: 1;\n",
              "}\n",
              "\n",
              "#sk-container-id-1 div.sk-parallel {\n",
              "  display: flex;\n",
              "  align-items: stretch;\n",
              "  justify-content: center;\n",
              "  background-color: var(--sklearn-color-background);\n",
              "  position: relative;\n",
              "}\n",
              "\n",
              "#sk-container-id-1 div.sk-parallel-item {\n",
              "  display: flex;\n",
              "  flex-direction: column;\n",
              "}\n",
              "\n",
              "#sk-container-id-1 div.sk-parallel-item:first-child::after {\n",
              "  align-self: flex-end;\n",
              "  width: 50%;\n",
              "}\n",
              "\n",
              "#sk-container-id-1 div.sk-parallel-item:last-child::after {\n",
              "  align-self: flex-start;\n",
              "  width: 50%;\n",
              "}\n",
              "\n",
              "#sk-container-id-1 div.sk-parallel-item:only-child::after {\n",
              "  width: 0;\n",
              "}\n",
              "\n",
              "/* Serial-specific style estimator block */\n",
              "\n",
              "#sk-container-id-1 div.sk-serial {\n",
              "  display: flex;\n",
              "  flex-direction: column;\n",
              "  align-items: center;\n",
              "  background-color: var(--sklearn-color-background);\n",
              "  padding-right: 1em;\n",
              "  padding-left: 1em;\n",
              "}\n",
              "\n",
              "\n",
              "/* Toggleable style: style used for estimator/Pipeline/ColumnTransformer box that is\n",
              "clickable and can be expanded/collapsed.\n",
              "- Pipeline and ColumnTransformer use this feature and define the default style\n",
              "- Estimators will overwrite some part of the style using the `sk-estimator` class\n",
              "*/\n",
              "\n",
              "/* Pipeline and ColumnTransformer style (default) */\n",
              "\n",
              "#sk-container-id-1 div.sk-toggleable {\n",
              "  /* Default theme specific background. It is overwritten whether we have a\n",
              "  specific estimator or a Pipeline/ColumnTransformer */\n",
              "  background-color: var(--sklearn-color-background);\n",
              "}\n",
              "\n",
              "/* Toggleable label */\n",
              "#sk-container-id-1 label.sk-toggleable__label {\n",
              "  cursor: pointer;\n",
              "  display: flex;\n",
              "  width: 100%;\n",
              "  margin-bottom: 0;\n",
              "  padding: 0.5em;\n",
              "  box-sizing: border-box;\n",
              "  text-align: center;\n",
              "  align-items: start;\n",
              "  justify-content: space-between;\n",
              "  gap: 0.5em;\n",
              "}\n",
              "\n",
              "#sk-container-id-1 label.sk-toggleable__label .caption {\n",
              "  font-size: 0.6rem;\n",
              "  font-weight: lighter;\n",
              "  color: var(--sklearn-color-text-muted);\n",
              "}\n",
              "\n",
              "#sk-container-id-1 label.sk-toggleable__label-arrow:before {\n",
              "  /* Arrow on the left of the label */\n",
              "  content: \"▸\";\n",
              "  float: left;\n",
              "  margin-right: 0.25em;\n",
              "  color: var(--sklearn-color-icon);\n",
              "}\n",
              "\n",
              "#sk-container-id-1 label.sk-toggleable__label-arrow:hover:before {\n",
              "  color: var(--sklearn-color-text);\n",
              "}\n",
              "\n",
              "/* Toggleable content - dropdown */\n",
              "\n",
              "#sk-container-id-1 div.sk-toggleable__content {\n",
              "  max-height: 0;\n",
              "  max-width: 0;\n",
              "  overflow: hidden;\n",
              "  text-align: left;\n",
              "  /* unfitted */\n",
              "  background-color: var(--sklearn-color-unfitted-level-0);\n",
              "}\n",
              "\n",
              "#sk-container-id-1 div.sk-toggleable__content.fitted {\n",
              "  /* fitted */\n",
              "  background-color: var(--sklearn-color-fitted-level-0);\n",
              "}\n",
              "\n",
              "#sk-container-id-1 div.sk-toggleable__content pre {\n",
              "  margin: 0.2em;\n",
              "  border-radius: 0.25em;\n",
              "  color: var(--sklearn-color-text);\n",
              "  /* unfitted */\n",
              "  background-color: var(--sklearn-color-unfitted-level-0);\n",
              "}\n",
              "\n",
              "#sk-container-id-1 div.sk-toggleable__content.fitted pre {\n",
              "  /* unfitted */\n",
              "  background-color: var(--sklearn-color-fitted-level-0);\n",
              "}\n",
              "\n",
              "#sk-container-id-1 input.sk-toggleable__control:checked~div.sk-toggleable__content {\n",
              "  /* Expand drop-down */\n",
              "  max-height: 200px;\n",
              "  max-width: 100%;\n",
              "  overflow: auto;\n",
              "}\n",
              "\n",
              "#sk-container-id-1 input.sk-toggleable__control:checked~label.sk-toggleable__label-arrow:before {\n",
              "  content: \"▾\";\n",
              "}\n",
              "\n",
              "/* Pipeline/ColumnTransformer-specific style */\n",
              "\n",
              "#sk-container-id-1 div.sk-label input.sk-toggleable__control:checked~label.sk-toggleable__label {\n",
              "  color: var(--sklearn-color-text);\n",
              "  background-color: var(--sklearn-color-unfitted-level-2);\n",
              "}\n",
              "\n",
              "#sk-container-id-1 div.sk-label.fitted input.sk-toggleable__control:checked~label.sk-toggleable__label {\n",
              "  background-color: var(--sklearn-color-fitted-level-2);\n",
              "}\n",
              "\n",
              "/* Estimator-specific style */\n",
              "\n",
              "/* Colorize estimator box */\n",
              "#sk-container-id-1 div.sk-estimator input.sk-toggleable__control:checked~label.sk-toggleable__label {\n",
              "  /* unfitted */\n",
              "  background-color: var(--sklearn-color-unfitted-level-2);\n",
              "}\n",
              "\n",
              "#sk-container-id-1 div.sk-estimator.fitted input.sk-toggleable__control:checked~label.sk-toggleable__label {\n",
              "  /* fitted */\n",
              "  background-color: var(--sklearn-color-fitted-level-2);\n",
              "}\n",
              "\n",
              "#sk-container-id-1 div.sk-label label.sk-toggleable__label,\n",
              "#sk-container-id-1 div.sk-label label {\n",
              "  /* The background is the default theme color */\n",
              "  color: var(--sklearn-color-text-on-default-background);\n",
              "}\n",
              "\n",
              "/* On hover, darken the color of the background */\n",
              "#sk-container-id-1 div.sk-label:hover label.sk-toggleable__label {\n",
              "  color: var(--sklearn-color-text);\n",
              "  background-color: var(--sklearn-color-unfitted-level-2);\n",
              "}\n",
              "\n",
              "/* Label box, darken color on hover, fitted */\n",
              "#sk-container-id-1 div.sk-label.fitted:hover label.sk-toggleable__label.fitted {\n",
              "  color: var(--sklearn-color-text);\n",
              "  background-color: var(--sklearn-color-fitted-level-2);\n",
              "}\n",
              "\n",
              "/* Estimator label */\n",
              "\n",
              "#sk-container-id-1 div.sk-label label {\n",
              "  font-family: monospace;\n",
              "  font-weight: bold;\n",
              "  display: inline-block;\n",
              "  line-height: 1.2em;\n",
              "}\n",
              "\n",
              "#sk-container-id-1 div.sk-label-container {\n",
              "  text-align: center;\n",
              "}\n",
              "\n",
              "/* Estimator-specific */\n",
              "#sk-container-id-1 div.sk-estimator {\n",
              "  font-family: monospace;\n",
              "  border: 1px dotted var(--sklearn-color-border-box);\n",
              "  border-radius: 0.25em;\n",
              "  box-sizing: border-box;\n",
              "  margin-bottom: 0.5em;\n",
              "  /* unfitted */\n",
              "  background-color: var(--sklearn-color-unfitted-level-0);\n",
              "}\n",
              "\n",
              "#sk-container-id-1 div.sk-estimator.fitted {\n",
              "  /* fitted */\n",
              "  background-color: var(--sklearn-color-fitted-level-0);\n",
              "}\n",
              "\n",
              "/* on hover */\n",
              "#sk-container-id-1 div.sk-estimator:hover {\n",
              "  /* unfitted */\n",
              "  background-color: var(--sklearn-color-unfitted-level-2);\n",
              "}\n",
              "\n",
              "#sk-container-id-1 div.sk-estimator.fitted:hover {\n",
              "  /* fitted */\n",
              "  background-color: var(--sklearn-color-fitted-level-2);\n",
              "}\n",
              "\n",
              "/* Specification for estimator info (e.g. \"i\" and \"?\") */\n",
              "\n",
              "/* Common style for \"i\" and \"?\" */\n",
              "\n",
              ".sk-estimator-doc-link,\n",
              "a:link.sk-estimator-doc-link,\n",
              "a:visited.sk-estimator-doc-link {\n",
              "  float: right;\n",
              "  font-size: smaller;\n",
              "  line-height: 1em;\n",
              "  font-family: monospace;\n",
              "  background-color: var(--sklearn-color-background);\n",
              "  border-radius: 1em;\n",
              "  height: 1em;\n",
              "  width: 1em;\n",
              "  text-decoration: none !important;\n",
              "  margin-left: 0.5em;\n",
              "  text-align: center;\n",
              "  /* unfitted */\n",
              "  border: var(--sklearn-color-unfitted-level-1) 1pt solid;\n",
              "  color: var(--sklearn-color-unfitted-level-1);\n",
              "}\n",
              "\n",
              ".sk-estimator-doc-link.fitted,\n",
              "a:link.sk-estimator-doc-link.fitted,\n",
              "a:visited.sk-estimator-doc-link.fitted {\n",
              "  /* fitted */\n",
              "  border: var(--sklearn-color-fitted-level-1) 1pt solid;\n",
              "  color: var(--sklearn-color-fitted-level-1);\n",
              "}\n",
              "\n",
              "/* On hover */\n",
              "div.sk-estimator:hover .sk-estimator-doc-link:hover,\n",
              ".sk-estimator-doc-link:hover,\n",
              "div.sk-label-container:hover .sk-estimator-doc-link:hover,\n",
              ".sk-estimator-doc-link:hover {\n",
              "  /* unfitted */\n",
              "  background-color: var(--sklearn-color-unfitted-level-3);\n",
              "  color: var(--sklearn-color-background);\n",
              "  text-decoration: none;\n",
              "}\n",
              "\n",
              "div.sk-estimator.fitted:hover .sk-estimator-doc-link.fitted:hover,\n",
              ".sk-estimator-doc-link.fitted:hover,\n",
              "div.sk-label-container:hover .sk-estimator-doc-link.fitted:hover,\n",
              ".sk-estimator-doc-link.fitted:hover {\n",
              "  /* fitted */\n",
              "  background-color: var(--sklearn-color-fitted-level-3);\n",
              "  color: var(--sklearn-color-background);\n",
              "  text-decoration: none;\n",
              "}\n",
              "\n",
              "/* Span, style for the box shown on hovering the info icon */\n",
              ".sk-estimator-doc-link span {\n",
              "  display: none;\n",
              "  z-index: 9999;\n",
              "  position: relative;\n",
              "  font-weight: normal;\n",
              "  right: .2ex;\n",
              "  padding: .5ex;\n",
              "  margin: .5ex;\n",
              "  width: min-content;\n",
              "  min-width: 20ex;\n",
              "  max-width: 50ex;\n",
              "  color: var(--sklearn-color-text);\n",
              "  box-shadow: 2pt 2pt 4pt #999;\n",
              "  /* unfitted */\n",
              "  background: var(--sklearn-color-unfitted-level-0);\n",
              "  border: .5pt solid var(--sklearn-color-unfitted-level-3);\n",
              "}\n",
              "\n",
              ".sk-estimator-doc-link.fitted span {\n",
              "  /* fitted */\n",
              "  background: var(--sklearn-color-fitted-level-0);\n",
              "  border: var(--sklearn-color-fitted-level-3);\n",
              "}\n",
              "\n",
              ".sk-estimator-doc-link:hover span {\n",
              "  display: block;\n",
              "}\n",
              "\n",
              "/* \"?\"-specific style due to the `<a>` HTML tag */\n",
              "\n",
              "#sk-container-id-1 a.estimator_doc_link {\n",
              "  float: right;\n",
              "  font-size: 1rem;\n",
              "  line-height: 1em;\n",
              "  font-family: monospace;\n",
              "  background-color: var(--sklearn-color-background);\n",
              "  border-radius: 1rem;\n",
              "  height: 1rem;\n",
              "  width: 1rem;\n",
              "  text-decoration: none;\n",
              "  /* unfitted */\n",
              "  color: var(--sklearn-color-unfitted-level-1);\n",
              "  border: var(--sklearn-color-unfitted-level-1) 1pt solid;\n",
              "}\n",
              "\n",
              "#sk-container-id-1 a.estimator_doc_link.fitted {\n",
              "  /* fitted */\n",
              "  border: var(--sklearn-color-fitted-level-1) 1pt solid;\n",
              "  color: var(--sklearn-color-fitted-level-1);\n",
              "}\n",
              "\n",
              "/* On hover */\n",
              "#sk-container-id-1 a.estimator_doc_link:hover {\n",
              "  /* unfitted */\n",
              "  background-color: var(--sklearn-color-unfitted-level-3);\n",
              "  color: var(--sklearn-color-background);\n",
              "  text-decoration: none;\n",
              "}\n",
              "\n",
              "#sk-container-id-1 a.estimator_doc_link.fitted:hover {\n",
              "  /* fitted */\n",
              "  background-color: var(--sklearn-color-fitted-level-3);\n",
              "}\n",
              "</style><div id=\"sk-container-id-1\" class=\"sk-top-container\"><div class=\"sk-text-repr-fallback\"><pre>LogisticRegression(class_weight=&#x27;balanced&#x27;, max_iter=1000, random_state=42)</pre><b>In a Jupyter environment, please rerun this cell to show the HTML representation or trust the notebook. <br />On GitHub, the HTML representation is unable to render, please try loading this page with nbviewer.org.</b></div><div class=\"sk-container\" hidden><div class=\"sk-item\"><div class=\"sk-estimator fitted sk-toggleable\"><input class=\"sk-toggleable__control sk-hidden--visually\" id=\"sk-estimator-id-1\" type=\"checkbox\" checked><label for=\"sk-estimator-id-1\" class=\"sk-toggleable__label fitted sk-toggleable__label-arrow\"><div><div>LogisticRegression</div></div><div><a class=\"sk-estimator-doc-link fitted\" rel=\"noreferrer\" target=\"_blank\" href=\"https://scikit-learn.org/1.6/modules/generated/sklearn.linear_model.LogisticRegression.html\">?<span>Documentation for LogisticRegression</span></a><span class=\"sk-estimator-doc-link fitted\">i<span>Fitted</span></span></div></label><div class=\"sk-toggleable__content fitted\"><pre>LogisticRegression(class_weight=&#x27;balanced&#x27;, max_iter=1000, random_state=42)</pre></div> </div></div></div></div>"
            ]
          },
          "metadata": {},
          "execution_count": 21
        }
      ]
    },
    {
      "cell_type": "code",
      "source": [
        "# Palabras clave por tema\n",
        "n_top_words = 10\n",
        "\n",
        "for k in range(mejor_p):\n",
        "    print(f\"\\nTema {k}:\")\n",
        "    top_words = modelo_final.get_topic_words(k, top_n=n_top_words)\n",
        "    palabras = [word for word, _ in top_words]\n",
        "    print(\" + \".join(palabras))\n"
      ],
      "metadata": {
        "colab": {
          "base_uri": "https://localhost:8080/"
        },
        "id": "Q-3Jdmz2NGBT",
        "outputId": "277faca6-f566-48e1-cb1b-cabce3f82104"
      },
      "execution_count": 22,
      "outputs": [
        {
          "output_type": "stream",
          "name": "stdout",
          "text": [
            "\n",
            "Tema 0:\n",
            "comedy + live + special + stage + tv + best + star + band + set + comic\n",
            "\n",
            "Tema 1:\n",
            "make + friends + los + people + things + men + like + decide + trying + summer\n",
            "\n",
            "Tema 2:\n",
            "help + tries + gets + friend + new + money + involved + finds + meets + plays\n",
            "\n",
            "Tema 3:\n",
            "mysterious + house + young + dead + group + town + soon + evil + killer + strange\n",
            "\n",
            "Tema 4:\n",
            "world + life + film + documentary + people + lives + personal + journey + story + human\n",
            "\n",
            "Tema 5:\n",
            "father + family + mother + young + son + life + girl + boy + daughter + lives\n",
            "\n",
            "Tema 6:\n",
            "police + gang + crime + murder + prison + case + army + help + forced + fight\n",
            "\n",
            "Tema 7:\n",
            "make + wants + work + company + business + local + just + real + money + gets\n",
            "\n",
            "Tema 8:\n",
            "years + life + story + age + time + come + family + past + long + set\n",
            "\n",
            "Tema 9:\n",
            "film + documentary + director + movie + footage + interviews + films + john + including + look\n",
            "\n",
            "Tema 10:\n",
            "story + film + based + tells + true + life + play + set + movie + drama\n",
            "\n",
            "Tema 11:\n",
            "new + york + city + black + comedy + white + live + state + special + jim\n",
            "\n",
            "Tema 12:\n",
            "man + old + life + year + time + just + good + friend + day + best\n",
            "\n",
            "Tema 13:\n",
            "new + family + life + village + old + trip + way + begins + takes + finds\n",
            "\n",
            "Tema 14:\n",
            "school + high + student + college + students + teacher + girls + group + friends + party\n",
            "\n",
            "Tema 15:\n",
            "love + young + man + woman + falls + finds + meets + married + town + marriage\n",
            "\n",
            "Tema 16:\n",
            "american + political + united + documentary + story + public + rise + history + world + gay\n",
            "\n",
            "Tema 17:\n",
            "day + young + set + women + henry + military + plan + help + london + brothers\n",
            "\n",
            "Tema 18:\n",
            "world + war + team + years + story + future + face + american + great + time\n"
          ]
        }
      ]
    },
    {
      "cell_type": "markdown",
      "source": [
        "\n",
        "El análisis del modelo supervisado sLDA revela que algunos temas tienen una influencia significativa en la predicción del género objetivo. El Tema 3, por ejemplo, tiene un coeficiente notablemente alto (15.96), lo que indica una fuerte asociación positiva con la clase positiva —es decir, su presencia en una sinopsis aumenta considerablemente la probabilidad de que la película pertenezca al género objetivo. Este tema está compuesto por palabras como mysterious, house, dead, evil, killer y strange, lo cual sugiere una narrativa típica del género Horror. También se observa que el Tema 14 (coeficiente = 3.96) contribuye positivamente, y está relacionado con contextos escolares y adolescentes (palabras como school, high, students, party).\n",
        "\n",
        "Por el contrario, varios temas tienen coeficientes negativos, indicando que están asociados con la clase negativa (películas que no pertenecen al género objetivo). Por ejemplo, el Tema 4 (coeficiente = -6.45), con palabras como world, life, documentary, human, se alinea fuertemente con películas documentales o de carácter biográfico, alejadas de lo que se espera en una película de horror. Lo mismo ocurre con el Tema 9 (coeficiente = -3.50), claramente centrado en metacine o películas sobre cine mismo (film, director, interviews), y el Tema 16 (coeficiente = -2.86), relacionado con política y temas sociales. Estos resultados reflejan cómo el modelo logra capturar, mediante los temas latentes, diferencias semánticas que permiten distinguir con precisión las sinopsis del género objetivo respecto a otras."
      ],
      "metadata": {
        "id": "x_wXxCoBX4d-"
      }
    },
    {
      "cell_type": "code",
      "source": [
        "# Coeficientes del modelo de regresión por tema\n",
        "for i, coef in enumerate(clf_final.coef_[0]):\n",
        "    print(f\"Tema {i}: coeficiente = {coef:.4f}\")\n"
      ],
      "metadata": {
        "colab": {
          "base_uri": "https://localhost:8080/"
        },
        "id": "VLRwVm5GNP14",
        "outputId": "b636c45c-fcd4-41b9-9e6f-07c5b7397826"
      },
      "execution_count": 23,
      "outputs": [
        {
          "output_type": "stream",
          "name": "stdout",
          "text": [
            "Tema 0: coeficiente = -1.4333\n",
            "Tema 1: coeficiente = -0.3359\n",
            "Tema 2: coeficiente = -0.8222\n",
            "Tema 3: coeficiente = 15.9620\n",
            "Tema 4: coeficiente = -6.4482\n",
            "Tema 5: coeficiente = -1.1328\n",
            "Tema 6: coeficiente = -1.2613\n",
            "Tema 7: coeficiente = 0.3871\n",
            "Tema 8: coeficiente = 0.0504\n",
            "Tema 9: coeficiente = -3.4996\n",
            "Tema 10: coeficiente = -1.6670\n",
            "Tema 11: coeficiente = -1.9196\n",
            "Tema 12: coeficiente = -0.4104\n",
            "Tema 13: coeficiente = 1.8437\n",
            "Tema 14: coeficiente = 3.9618\n",
            "Tema 15: coeficiente = -1.4907\n",
            "Tema 16: coeficiente = -2.8606\n",
            "Tema 17: coeficiente = 1.2770\n",
            "Tema 18: coeficiente = -0.8911\n"
          ]
        }
      ]
    },
    {
      "cell_type": "markdown",
      "source": [
        "#### Evaluación del error del modelo seleccionado mediante validación cruzada con k=10 folds mediante ROC-AUC"
      ],
      "metadata": {
        "id": "hUFqZ73fOuPn"
      }
    },
    {
      "cell_type": "code",
      "source": [
        "# Obtener representaciones theta del modelo sLDA entrenado\n",
        "X_topics_final = [doc.get_topic_dist() for doc in modelo_final.docs]\n",
        "y_final = [label for _, label in docs_labels]\n",
        "\n",
        "# Definir clasificador\n",
        "clf_final = LogisticRegression(class_weight='balanced', max_iter=1000, random_state=42)\n",
        "\n",
        "# Validación cruzada estratificada con k=10\n",
        "kf_10 = StratifiedKFold(n_splits=10, shuffle=True, random_state=42)\n",
        "scores_10 = cross_val_score(clf_final, X_topics_final, y_final, cv=kf_10, scoring='roc_auc')\n",
        "\n",
        "# Imprimir resultados\n",
        "print(f\"ROC-AUC promedio (k=10): {np.mean(scores_10):.4f} ± {np.std(scores_10):.4f}\")\n",
        "\n"
      ],
      "metadata": {
        "colab": {
          "base_uri": "https://localhost:8080/"
        },
        "id": "RoJJGxl3OXMz",
        "outputId": "c7a3931c-437d-488a-8805-3a1527f4d2e8"
      },
      "execution_count": 24,
      "outputs": [
        {
          "output_type": "stream",
          "name": "stdout",
          "text": [
            "ROC-AUC promedio (k=10): 0.8977 ± 0.0209\n"
          ]
        }
      ]
    },
    {
      "cell_type": "markdown",
      "source": [
        "#### Área bajo la curva"
      ],
      "metadata": {
        "id": "_vNV5z7ePKJJ"
      }
    },
    {
      "cell_type": "code",
      "source": [
        "clf_final = LogisticRegression(class_weight='balanced', max_iter=1000, random_state=42)\n",
        "clf_final.fit(X_topics_final, y_final)\n",
        "\n",
        "# Obtener probabilidades de clase positiva\n",
        "y_proba = clf_final.predict_proba(X_topics_final)[:, 1]\n",
        "\n",
        "# Calcular curva ROC y AUC\n",
        "fpr, tpr, _ = roc_curve(y_final, y_proba)\n",
        "roc_auc = auc(fpr, tpr)\n",
        "\n",
        "# Graficar la curva ROC\n",
        "plt.figure(figsize=(6, 4))\n",
        "plt.plot(fpr, tpr, label=f'ROC curve (AUC = {roc_auc:.2f})')\n",
        "plt.plot([0, 1], [0, 1], linestyle='--', color='gray')\n",
        "plt.xlabel('False Positive Rate')\n",
        "plt.ylabel('True Positive Rate')\n",
        "plt.title('Curva ROC - Modelo Final (sLDA)')\n",
        "plt.legend(loc='lower right')\n",
        "plt.grid(True)\n",
        "plt.tight_layout()\n",
        "plt.show()\n",
        "\n"
      ],
      "metadata": {
        "colab": {
          "base_uri": "https://localhost:8080/",
          "height": 407
        },
        "id": "gpvVp0_KPQ4y",
        "outputId": "4114b412-e97a-4acf-8449-ac7fe2a11c95"
      },
      "execution_count": 25,
      "outputs": [
        {
          "output_type": "display_data",
          "data": {
            "text/plain": [
              "<Figure size 600x400 with 1 Axes>"
            ],
            "image/png": "[encoded data removed]"
          },
          "metadata": {}
        }
      ]
    },
    {
      "cell_type": "markdown",
      "source": [
        "La curva ROC correspondiente al modelo final de sLDA evidencia un desempeño sólido en la tarea de clasificación binaria. Como se muestra en la Figura, la curva se aproxima al vértice superior izquierdo, lo que indica una alta tasa de verdaderos positivos con una baja tasa de falsos positivos. Este comportamiento se corrobora cuantitativamente mediante el valor del Área Bajo la Curva (AUC), que alcanzó un promedio de 0.8924 ± 0.0158 tras una validación cruzada con k = 10. Dicho resultado refleja una excelente capacidad discriminativa del modelo, lo que implica que el modelo es eficaz al diferenciar entre sinopsis pertenecientes al género objetivo (por ejemplo, horror) y aquellas que no lo son. Esta métrica AUC cercana a 0.90 posiciona al modelo como una herramienta confiable para tareas de clasificación temática en textos narrativos del ámbito cinematográfico."
      ],
      "metadata": {
        "id": "3ypHePuO2xAo"
      }
    },
    {
      "cell_type": "code",
      "source": [
        "import pandas as pd\n",
        "import matplotlib.pyplot as plt\n",
        "import seaborn as sns\n",
        "# Número de temas en el modelo\n",
        "num_topics = modelo_final.k\n",
        "\n",
        "# Crear diccionario de temas con palabras y sus probabilidades\n",
        "topic_word_dist = {\n",
        "    f'Tema {k}': dict(modelo_final.get_topic_words(k, top_n=10))\n",
        "    for k in range(num_topics)\n",
        "}\n",
        "\n",
        "# Convertir a DataFrame\n",
        "df_topic_words = pd.DataFrame(topic_word_dist).fillna(0)\n",
        "\n",
        "# Normalizar por fila si se desea\n",
        "df_norm = df_topic_words.div(df_topic_words.sum(axis=1), axis=0)\n",
        "\n",
        "# --- Selección de top 5 palabras por cada tema ---\n",
        "top_palabras = set()\n",
        "for columna in df_topic_words.columns:\n",
        "    top5 = df_topic_words[columna].sort_values(ascending=False).head(5).index\n",
        "    top_palabras.update(top5)\n",
        "\n",
        "# Filtrar solo las palabras seleccionadas\n",
        "df_top = df_topic_words.loc[df_topic_words.index.isin(top_palabras)]\n",
        "\n",
        "# Normalizar por fila (opcional, si deseas ver proporción dentro de cada palabra)\n",
        "df_top_norm = df_top.div(df_top.sum(axis=1), axis=0)\n",
        "\n",
        "# --- Visualización mejorada ---\n",
        "plt.figure(figsize=(10, 10))\n",
        "sns.heatmap(\n",
        "    df_top_norm,\n",
        "    annot=True,\n",
        "    fmt=\".2f\",\n",
        "    cmap=\"YlGnBu\",\n",
        "    linewidths=0.5,\n",
        "    cbar_kws={'label': 'Proporción normalizada'},\n",
        "    annot_kws={\"fontsize\": 9}\n",
        ")\n",
        "\n",
        "plt.title(\"Top 5 palabras por tema (normalizado)\", fontsize=16, fontweight='bold')\n",
        "plt.xlabel(\"Temas\", fontsize=12)\n",
        "plt.ylabel(\"Palabras\", fontsize=12)\n",
        "plt.xticks(rotation=45, ha='right', fontsize=10)\n",
        "plt.yticks(fontsize=10)\n",
        "plt.tight_layout()\n",
        "plt.show()"
      ],
      "metadata": {
        "colab": {
          "base_uri": "https://localhost:8080/",
          "height": 1000
        },
        "id": "zonXaUOstx2S",
        "outputId": "454d43d3-cae8-40f2-d728-dcd903a099c2"
      },
      "execution_count": 27,
      "outputs": [
        {
          "output_type": "display_data",
          "data": {
            "text/plain": [
              "<Figure size 1000x1000 with 2 Axes>"
            ],
            "image/png": "[encoded data removed]"
          },
          "metadata": {}
        }
      ]
    },
    {
      "cell_type": "markdown",
      "source": [
        "El mapa de calor que representa las cinco palabras más representativas por tema, normalizadas por su proporción, proporciona una visión cualitativa de los tópicos generados por el modelo sLDA entrenado para clasificar películas del género horror. Se observa una diferenciación clara entre temas, con palabras altamente representativas como young, man, war, police y story que dominan tópicos específicos. Aunque algunos temas están asociados a narrativas genéricas o familiares (e.g., “father”, “son”, “life”), otros tópicos presentan vocabulario vinculado a contextos de conflicto, suspenso o crimen, tales como war, gang, police y decides, lo cual puede estar relacionado con el tono oscuro y los elementos de violencia o tensión característicos del cine de horror. Este patrón lingüístico sugiere que el modelo ha captado componentes semánticos relevantes para la clasificación del género, permitiendo interpretar cómo ciertos grupos de palabras contribuyen a la discriminación del género objetivo frente a otros."
      ],
      "metadata": {
        "id": "wTf03cW32u4e"
      }
    },
    {
      "cell_type": "markdown",
      "source": [
        "## Matriz de confusión de clasificación de Horror"
      ],
      "metadata": {
        "id": "ott2kDuMr37C"
      }
    },
    {
      "cell_type": "code",
      "source": [
        "clf_final = LogisticRegression(class_weight='balanced', max_iter=1000, random_state=42)\n",
        "clf_final.fit(X_topics_final, y_final)\n",
        "y_proba = clf_final.predict_proba(X_topics_final)[:, 1]"
      ],
      "metadata": {
        "id": "7ITDCnqAqH85"
      },
      "execution_count": 28,
      "outputs": []
    },
    {
      "cell_type": "code",
      "source": [
        "y_proba"
      ],
      "metadata": {
        "colab": {
          "base_uri": "https://localhost:8080/"
        },
        "id": "-sD19CWYrdyo",
        "outputId": "07e8c98f-4a72-4621-b29b-f384fab5b710"
      },
      "execution_count": 29,
      "outputs": [
        {
          "output_type": "execute_result",
          "data": {
            "text/plain": [
              "array([0.20928087, 0.41962806, 0.12054328, ..., 0.40715323, 0.15725013,\n",
              "       0.09353779])"
            ]
          },
          "metadata": {},
          "execution_count": 29
        }
      ]
    },
    {
      "cell_type": "code",
      "source": [
        "from sklearn.metrics import confusion_matrix\n",
        "import seaborn as sns\n",
        "import numpy as np\n",
        "import matplotlib.pyplot as plt\n",
        "\n",
        "# Paso 1: Predicción binaria a partir de probabilidades\n",
        "y_pred_final = (y_proba >= 0.5).astype(int)\n",
        "\n",
        "# Paso 2: Matriz de confusión\n",
        "cm = confusion_matrix(y_final, y_pred_final)\n",
        "\n",
        "# Paso 3: Normalización por fila (real) para obtener porcentajes\n",
        "cm_percent = cm.astype('float') / cm.sum(axis=1)[:, np.newaxis] * 100\n",
        "\n",
        "# Paso 4: Visualización\n",
        "plt.figure(figsize=(6, 5))\n",
        "sns.heatmap(cm_percent, annot=True, fmt=\".1f\", cmap=\"Blues\",\n",
        "            xticklabels=['No Horror', 'Horror'],\n",
        "            yticklabels=['No Horror', 'Horror'])\n",
        "plt.xlabel('Predicho')\n",
        "plt.ylabel('Real')\n",
        "plt.title('Matriz de confusión (% por clase real)')\n",
        "plt.tight_layout()\n",
        "plt.show()\n"
      ],
      "metadata": {
        "colab": {
          "base_uri": "https://localhost:8080/",
          "height": 506
        },
        "id": "CHo-lC1nrX2s",
        "outputId": "8b62a556-df69-44f8-c504-15b4b96dc6c6"
      },
      "execution_count": 30,
      "outputs": [
        {
          "output_type": "display_data",
          "data": {
            "text/plain": [
              "<Figure size 600x500 with 2 Axes>"
            ],
            "image/png": "[encoded data removed]"
          },
          "metadata": {}
        }
      ]
    },
    {
      "cell_type": "markdown",
      "source": [
        "La matriz de confusión expresada en porcentajes por clase real evidencia un desempeño equilibrado del modelo sLDA en la tarea de clasificación binaria del género horror. En particular, el modelo logra identificar correctamente el 80.3 % de las sinopsis que efectivamente pertenecen al género horror (verdaderos positivos), y clasifica adecuadamente el 82.1 % de los casos que no corresponden a dicho género (verdaderos negativos). No obstante, se observa un 19.7 % de falsos negativos —películas de horror clasificadas erróneamente como no horror— y un 17.9 % de falsos positivos —casos no horror etiquetados como horror—. Estos resultados reflejan una capacidad de discriminación sólida y balanceada, lo que respalda la utilidad del modelo en contextos donde se requiere diferenciar contenidos temáticamente oscuros o perturbadores del resto del corpus cinematográfico."
      ],
      "metadata": {
        "id": "C9AUx8A22qb0"
      }
    },
    {
      "cell_type": "code",
      "source": [
        "from sklearn.metrics import classification_report\n",
        "\n",
        "# Reemplaza estos nombres si usas otros en tu notebook\n",
        "print(\"Classification Report:\\n\")\n",
        "print(classification_report(y_final, y_pred_final, target_names=[\"No Horror\", \"Horror\"]))\n"
      ],
      "metadata": {
        "colab": {
          "base_uri": "https://localhost:8080/"
        },
        "id": "bQQedBy92-R6",
        "outputId": "1a6b37d1-e75a-4f5c-9752-a47e6bec3c04"
      },
      "execution_count": 31,
      "outputs": [
        {
          "output_type": "stream",
          "name": "stdout",
          "text": [
            "Classification Report:\n",
            "\n",
            "              precision    recall  f1-score   support\n",
            "\n",
            "   No Horror       0.98      0.87      0.92     12715\n",
            "      Horror       0.32      0.79      0.45       969\n",
            "\n",
            "    accuracy                           0.87     13684\n",
            "   macro avg       0.65      0.83      0.69     13684\n",
            "weighted avg       0.93      0.87      0.89     13684\n",
            "\n"
          ]
        }
      ]
    },
    {
      "cell_type": "markdown",
      "source": [
        "El reporte de clasificación obtenido para el modelo sLDA revela una precisión global del 82 %, indicando un rendimiento general sólido. La clase No Horror presenta una alta precisión (0.98) y un F1-score de 0.89, lo que sugiere que el modelo es altamente confiable para identificar correctamente las sinopsis que no pertenecen al género horror. Sin embargo, el desempeño en la clase Horror es más problemático: aunque el recall es alto (0.80), lo que implica que el modelo identifica la mayoría de los casos reales de horror, la precisión es baja (0.25), señalando una considerable tasa de falsos positivos. Esto se traduce en un F1-score moderado de 0.39 para dicha clase. El desequilibrio en el conjunto de datos —con una mayoría de sinopsis no horror— puede haber influido en este comportamiento. En general, si bien el modelo muestra una buena sensibilidad para detectar horror, requiere ajustes adicionales para mejorar la especificidad y reducir los errores de clasificación en esta categoría minoritaria."
      ],
      "metadata": {
        "id": "81Dxl8gs3LnK"
      }
    },
    {
      "cell_type": "markdown",
      "source": [
        "## Predicción de sinopsis\n"
      ],
      "metadata": {
        "id": "cp5oAq0UsV3p"
      }
    },
    {
      "cell_type": "code",
      "source": [
        "sinopsis_nuevas = [\n",
        "        \"A group of five teenagers decides to spend a weekend at one of their family’s old countryside house, far from the city and surrounded by dense forests. What begins as a fun getaway soon turns into a nightmare when they discover the estate hides a dark secret linked to mysterious disappearances that occurred years ago. And started happening again.\",\n",
        "        \"A young restorer decides to move into an old house to recover it, without imagining that she is unleashing a nightmare. Soon, chilling phenomena begin to manifest themselves: wailing in the hallways, ghosts in the mirrors and an evil presence that seems to inhabit every corner. Caught between the real and the supernatural, she must face unimaginable horrors if she wants to get out alive.\",\n",
        "        \"Clara, a famous writer tired of fame, takes refuge in a seaside town to find herself again. There she meets Julian, a carpenter with a melancholic look. What begins as a silent friendship turns into a deep and sincere love story. As their hearts beat again, they must face the ghosts of the past that threaten to separate them. Sometimes true love comes when you least expect it.\"\n",
        "    ]\n",
        "\n",
        "import re\n",
        "\n",
        "# Paso 1: Preprocesar y tokenizar\n",
        "def limpiar_y_tokenizar(texto):\n",
        "    texto = texto.lower()  # minúsculas\n",
        "    texto = re.sub(r'[^a-z\\s]', '', texto)  # quitar puntuación\n",
        "    return texto.split()  # tokenizar\n",
        "\n",
        "tokens_nuevos = [limpiar_y_tokenizar(texto) for texto in sinopsis_nuevas]\n",
        "\n",
        "# Paso 2: Crear documentos correctamente como lista de palabras\n",
        "documentos_nuevos = [modelo_final.make_doc(tokens) for tokens in tokens_nuevos]\n",
        "\n",
        "# Paso 3: Inferir la distribución de temas (theta)\n",
        "distribuciones_temas = [modelo_final.infer(doc)[0] for doc in documentos_nuevos]\n",
        "\n",
        "# Paso 4: Convertir a DataFrame para clasificación\n",
        "X_nuevas = pd.DataFrame(distribuciones_temas)\n",
        "\n",
        "# Obtener predicciones y probabilidades\n",
        "y_pred_nuevas = clf_final.predict(X_nuevas)\n",
        "y_proba_nuevas = clf_final.predict_proba(X_nuevas)\n",
        "\n",
        "# Mostrar resultados con probabilidad\n",
        "for i, (texto, pred, proba) in enumerate(zip(sinopsis_nuevas, y_pred_nuevas, y_proba_nuevas)):\n",
        "    print(f\"Sinopsis {i+1}:\\n{texto}\")\n",
        "    print(f\"Predicción: {'Horror' if pred == 1 else 'No Horror'}\")\n",
        "    print(f\"Probabilidad No Horror (0): {proba[0]*100:.2f}%\")\n",
        "    print(f\"Probabilidad Horror (1): {proba[1]*100:.2f}%\")"
      ],
      "metadata": {
        "colab": {
          "base_uri": "https://localhost:8080/"
        },
        "id": "k4ORDhchxuJh",
        "outputId": "5d487ac4-3da3-4863-dbbb-c7bbb17d55f2"
      },
      "execution_count": 32,
      "outputs": [
        {
          "output_type": "stream",
          "name": "stdout",
          "text": [
            "Sinopsis 1:\n",
            "A group of five teenagers decides to spend a weekend at one of their family’s old countryside house, far from the city and surrounded by dense forests. What begins as a fun getaway soon turns into a nightmare when they discover the estate hides a dark secret linked to mysterious disappearances that occurred years ago. And started happening again.\n",
            "Predicción: Horror\n",
            "Probabilidad No Horror (0): 2.32%\n",
            "Probabilidad Horror (1): 97.68%\n",
            "Sinopsis 2:\n",
            "A young restorer decides to move into an old house to recover it, without imagining that she is unleashing a nightmare. Soon, chilling phenomena begin to manifest themselves: wailing in the hallways, ghosts in the mirrors and an evil presence that seems to inhabit every corner. Caught between the real and the supernatural, she must face unimaginable horrors if she wants to get out alive.\n",
            "Predicción: Horror\n",
            "Probabilidad No Horror (0): 0.57%\n",
            "Probabilidad Horror (1): 99.43%\n",
            "Sinopsis 3:\n",
            "Clara, a famous writer tired of fame, takes refuge in a seaside town to find herself again. There she meets Julian, a carpenter with a melancholic look. What begins as a silent friendship turns into a deep and sincere love story. As their hearts beat again, they must face the ghosts of the past that threaten to separate them. Sometimes true love comes when you least expect it.\n",
            "Predicción: No Horror\n",
            "Probabilidad No Horror (0): 94.54%\n",
            "Probabilidad Horror (1): 5.46%\n"
          ]
        }
      ]
    },
    {
      "cell_type": "markdown",
      "source": [
        "Con el fin de ilustrar la capacidad del modelo para clasificar sinopsis ficticias, se evaluaron tres ejemplos representativos. Las dos primeras narrativas fueron clasificadas correctamente como horror, ambas con altas probabilidades asociadas (97.95 % y 93.36 %, respectivamente). Estas sinopsis contienen elementos canónicos del género, como desapariciones misteriosas, presencias malignas y aislamiento espacial, que el modelo reconoce con alta certeza. En cambio, la tercera sinopsis, centrada en una historia de amor entre una escritora y un carpintero en un pueblo costero, fue identificada como no horror con una probabilidad del 88.55 %. Este resultado reafirma que el modelo distingue correctamente entre tramas con tono emocional o romántico y aquellas de índole oscura o sobrenatural, demostrando una adecuada sensibilidad temática en el proceso de clasificación.\n"
      ],
      "metadata": {
        "id": "qrw86BqP2Q4v"
      }
    }
  ]
}